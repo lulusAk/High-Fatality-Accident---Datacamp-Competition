{
  "cells": [
    {
      "cell_type": "markdown",
      "metadata": {
        "colab_type": "text",
        "id": "view-in-github"
      },
      "source": [
        "<a href=\"https://colab.research.google.com/github/lulus2781/Competition---high-fatality-accidents/blob/main/datacamp2.ipynb\" target=\"_parent\"><img src=\"https://colab.research.google.com/assets/colab-badge.svg\" alt=\"Open In Colab\"/></a>"
      ]
    },
    {
      "cell_type": "code",
      "execution_count": 8,
      "metadata": {
        "id": "T7zATOAEXUrW"
      },
      "outputs": [],
      "source": [
        "url = \"https://raw.githubusercontent.com/lulus2781/Competition---high-fatality-accidents/main/accident-data.csv\"\n",
        "df <- read.csv(url)"
      ]
    },
    {
      "cell_type": "code",
      "execution_count": 2,
      "metadata": {
        "colab": {
          "base_uri": "https://localhost:8080/",
          "height": 303
        },
        "id": "QpI1Y0WTYN9L",
        "outputId": "5f9e69f7-e7ed-4075-e968-1b1033343b93"
      },
      "outputs": [
        {
          "data": {
            "text/html": [
              "<table class=\"dataframe\">\n",
              "<caption>A data.frame: 6 × 27</caption>\n",
              "<thead>\n",
              "\t<tr><th></th><th scope=col>accident_index</th><th scope=col>accident_year</th><th scope=col>accident_reference</th><th scope=col>longitude</th><th scope=col>latitude</th><th scope=col>accident_severity</th><th scope=col>number_of_vehicles</th><th scope=col>number_of_casualties</th><th scope=col>date</th><th scope=col>day_of_week</th><th scope=col>⋯</th><th scope=col>second_road_class</th><th scope=col>second_road_number</th><th scope=col>pedestrian_crossing_human_control</th><th scope=col>pedestrian_crossing_physical_facilities</th><th scope=col>light_conditions</th><th scope=col>weather_conditions</th><th scope=col>road_surface_conditions</th><th scope=col>special_conditions_at_site</th><th scope=col>carriageway_hazards</th><th scope=col>urban_or_rural_area</th></tr>\n",
              "\t<tr><th></th><th scope=col>&lt;chr&gt;</th><th scope=col>&lt;int&gt;</th><th scope=col>&lt;chr&gt;</th><th scope=col>&lt;dbl&gt;</th><th scope=col>&lt;dbl&gt;</th><th scope=col>&lt;int&gt;</th><th scope=col>&lt;int&gt;</th><th scope=col>&lt;int&gt;</th><th scope=col>&lt;chr&gt;</th><th scope=col>&lt;int&gt;</th><th scope=col>⋯</th><th scope=col>&lt;int&gt;</th><th scope=col>&lt;int&gt;</th><th scope=col>&lt;int&gt;</th><th scope=col>&lt;int&gt;</th><th scope=col>&lt;int&gt;</th><th scope=col>&lt;int&gt;</th><th scope=col>&lt;int&gt;</th><th scope=col>&lt;int&gt;</th><th scope=col>&lt;int&gt;</th><th scope=col>&lt;int&gt;</th></tr>\n",
              "</thead>\n",
              "<tbody>\n",
              "\t<tr><th scope=row>1</th><td>2020010219808</td><td>2020</td><td>10219808</td><td>-0.254001</td><td>51.46226</td><td>3</td><td>1</td><td>1</td><td>04/02/2020</td><td>3</td><td>⋯</td><td>6</td><td>0</td><td>9</td><td>9</td><td>1</td><td>9</td><td>9</td><td>0</td><td>0</td><td>1</td></tr>\n",
              "\t<tr><th scope=row>2</th><td>2020010220496</td><td>2020</td><td>10220496</td><td>-0.139253</td><td>51.47033</td><td>3</td><td>1</td><td>2</td><td>27/04/2020</td><td>2</td><td>⋯</td><td>6</td><td>0</td><td>0</td><td>4</td><td>1</td><td>1</td><td>1</td><td>0</td><td>0</td><td>1</td></tr>\n",
              "\t<tr><th scope=row>3</th><td>2020010228005</td><td>2020</td><td>10228005</td><td>-0.178719</td><td>51.52961</td><td>3</td><td>1</td><td>1</td><td>01/01/2020</td><td>4</td><td>⋯</td><td>6</td><td>0</td><td>0</td><td>0</td><td>4</td><td>1</td><td>2</td><td>0</td><td>0</td><td>1</td></tr>\n",
              "\t<tr><th scope=row>4</th><td>2020010228006</td><td>2020</td><td>10228006</td><td>-0.001683</td><td>51.54121</td><td>2</td><td>1</td><td>1</td><td>01/01/2020</td><td>4</td><td>⋯</td><td>6</td><td>0</td><td>0</td><td>4</td><td>4</td><td>1</td><td>1</td><td>0</td><td>0</td><td>1</td></tr>\n",
              "\t<tr><th scope=row>5</th><td>2020010228011</td><td>2020</td><td>10228011</td><td>-0.137592</td><td>51.51570</td><td>3</td><td>1</td><td>2</td><td>01/01/2020</td><td>4</td><td>⋯</td><td>5</td><td>0</td><td>0</td><td>0</td><td>4</td><td>1</td><td>1</td><td>0</td><td>0</td><td>1</td></tr>\n",
              "\t<tr><th scope=row>6</th><td>2020010228012</td><td>2020</td><td>10228012</td><td>-0.025880</td><td>51.47628</td><td>3</td><td>1</td><td>1</td><td>01/01/2020</td><td>4</td><td>⋯</td><td>6</td><td>0</td><td>0</td><td>0</td><td>4</td><td>1</td><td>1</td><td>0</td><td>0</td><td>1</td></tr>\n",
              "</tbody>\n",
              "</table>\n"
            ],
            "text/latex": [
              "A data.frame: 6 × 27\n",
              "\\begin{tabular}{r|lllllllllllllllllllll}\n",
              "  & accident\\_index & accident\\_year & accident\\_reference & longitude & latitude & accident\\_severity & number\\_of\\_vehicles & number\\_of\\_casualties & date & day\\_of\\_week & ⋯ & second\\_road\\_class & second\\_road\\_number & pedestrian\\_crossing\\_human\\_control & pedestrian\\_crossing\\_physical\\_facilities & light\\_conditions & weather\\_conditions & road\\_surface\\_conditions & special\\_conditions\\_at\\_site & carriageway\\_hazards & urban\\_or\\_rural\\_area\\\\\n",
              "  & <chr> & <int> & <chr> & <dbl> & <dbl> & <int> & <int> & <int> & <chr> & <int> & ⋯ & <int> & <int> & <int> & <int> & <int> & <int> & <int> & <int> & <int> & <int>\\\\\n",
              "\\hline\n",
              "\t1 & 2020010219808 & 2020 & 10219808 & -0.254001 & 51.46226 & 3 & 1 & 1 & 04/02/2020 & 3 & ⋯ & 6 & 0 & 9 & 9 & 1 & 9 & 9 & 0 & 0 & 1\\\\\n",
              "\t2 & 2020010220496 & 2020 & 10220496 & -0.139253 & 51.47033 & 3 & 1 & 2 & 27/04/2020 & 2 & ⋯ & 6 & 0 & 0 & 4 & 1 & 1 & 1 & 0 & 0 & 1\\\\\n",
              "\t3 & 2020010228005 & 2020 & 10228005 & -0.178719 & 51.52961 & 3 & 1 & 1 & 01/01/2020 & 4 & ⋯ & 6 & 0 & 0 & 0 & 4 & 1 & 2 & 0 & 0 & 1\\\\\n",
              "\t4 & 2020010228006 & 2020 & 10228006 & -0.001683 & 51.54121 & 2 & 1 & 1 & 01/01/2020 & 4 & ⋯ & 6 & 0 & 0 & 4 & 4 & 1 & 1 & 0 & 0 & 1\\\\\n",
              "\t5 & 2020010228011 & 2020 & 10228011 & -0.137592 & 51.51570 & 3 & 1 & 2 & 01/01/2020 & 4 & ⋯ & 5 & 0 & 0 & 0 & 4 & 1 & 1 & 0 & 0 & 1\\\\\n",
              "\t6 & 2020010228012 & 2020 & 10228012 & -0.025880 & 51.47628 & 3 & 1 & 1 & 01/01/2020 & 4 & ⋯ & 6 & 0 & 0 & 0 & 4 & 1 & 1 & 0 & 0 & 1\\\\\n",
              "\\end{tabular}\n"
            ],
            "text/markdown": [
              "\n",
              "A data.frame: 6 × 27\n",
              "\n",
              "| <!--/--> | accident_index &lt;chr&gt; | accident_year &lt;int&gt; | accident_reference &lt;chr&gt; | longitude &lt;dbl&gt; | latitude &lt;dbl&gt; | accident_severity &lt;int&gt; | number_of_vehicles &lt;int&gt; | number_of_casualties &lt;int&gt; | date &lt;chr&gt; | day_of_week &lt;int&gt; | ⋯ ⋯ | second_road_class &lt;int&gt; | second_road_number &lt;int&gt; | pedestrian_crossing_human_control &lt;int&gt; | pedestrian_crossing_physical_facilities &lt;int&gt; | light_conditions &lt;int&gt; | weather_conditions &lt;int&gt; | road_surface_conditions &lt;int&gt; | special_conditions_at_site &lt;int&gt; | carriageway_hazards &lt;int&gt; | urban_or_rural_area &lt;int&gt; |\n",
              "|---|---|---|---|---|---|---|---|---|---|---|---|---|---|---|---|---|---|---|---|---|---|\n",
              "| 1 | 2020010219808 | 2020 | 10219808 | -0.254001 | 51.46226 | 3 | 1 | 1 | 04/02/2020 | 3 | ⋯ | 6 | 0 | 9 | 9 | 1 | 9 | 9 | 0 | 0 | 1 |\n",
              "| 2 | 2020010220496 | 2020 | 10220496 | -0.139253 | 51.47033 | 3 | 1 | 2 | 27/04/2020 | 2 | ⋯ | 6 | 0 | 0 | 4 | 1 | 1 | 1 | 0 | 0 | 1 |\n",
              "| 3 | 2020010228005 | 2020 | 10228005 | -0.178719 | 51.52961 | 3 | 1 | 1 | 01/01/2020 | 4 | ⋯ | 6 | 0 | 0 | 0 | 4 | 1 | 2 | 0 | 0 | 1 |\n",
              "| 4 | 2020010228006 | 2020 | 10228006 | -0.001683 | 51.54121 | 2 | 1 | 1 | 01/01/2020 | 4 | ⋯ | 6 | 0 | 0 | 4 | 4 | 1 | 1 | 0 | 0 | 1 |\n",
              "| 5 | 2020010228011 | 2020 | 10228011 | -0.137592 | 51.51570 | 3 | 1 | 2 | 01/01/2020 | 4 | ⋯ | 5 | 0 | 0 | 0 | 4 | 1 | 1 | 0 | 0 | 1 |\n",
              "| 6 | 2020010228012 | 2020 | 10228012 | -0.025880 | 51.47628 | 3 | 1 | 1 | 01/01/2020 | 4 | ⋯ | 6 | 0 | 0 | 0 | 4 | 1 | 1 | 0 | 0 | 1 |\n",
              "\n"
            ],
            "text/plain": [
              "  accident_index accident_year accident_reference longitude latitude\n",
              "1 2020010219808  2020          10219808           -0.254001 51.46226\n",
              "2 2020010220496  2020          10220496           -0.139253 51.47033\n",
              "3 2020010228005  2020          10228005           -0.178719 51.52961\n",
              "4 2020010228006  2020          10228006           -0.001683 51.54121\n",
              "5 2020010228011  2020          10228011           -0.137592 51.51570\n",
              "6 2020010228012  2020          10228012           -0.025880 51.47628\n",
              "  accident_severity number_of_vehicles number_of_casualties date      \n",
              "1 3                 1                  1                    04/02/2020\n",
              "2 3                 1                  2                    27/04/2020\n",
              "3 3                 1                  1                    01/01/2020\n",
              "4 2                 1                  1                    01/01/2020\n",
              "5 3                 1                  2                    01/01/2020\n",
              "6 3                 1                  1                    01/01/2020\n",
              "  day_of_week ⋯ second_road_class second_road_number\n",
              "1 3           ⋯ 6                 0                 \n",
              "2 2           ⋯ 6                 0                 \n",
              "3 4           ⋯ 6                 0                 \n",
              "4 4           ⋯ 6                 0                 \n",
              "5 4           ⋯ 5                 0                 \n",
              "6 4           ⋯ 6                 0                 \n",
              "  pedestrian_crossing_human_control pedestrian_crossing_physical_facilities\n",
              "1 9                                 9                                      \n",
              "2 0                                 4                                      \n",
              "3 0                                 0                                      \n",
              "4 0                                 4                                      \n",
              "5 0                                 0                                      \n",
              "6 0                                 0                                      \n",
              "  light_conditions weather_conditions road_surface_conditions\n",
              "1 1                9                  9                      \n",
              "2 1                1                  1                      \n",
              "3 4                1                  2                      \n",
              "4 4                1                  1                      \n",
              "5 4                1                  1                      \n",
              "6 4                1                  1                      \n",
              "  special_conditions_at_site carriageway_hazards urban_or_rural_area\n",
              "1 0                          0                   1                  \n",
              "2 0                          0                   1                  \n",
              "3 0                          0                   1                  \n",
              "4 0                          0                   1                  \n",
              "5 0                          0                   1                  \n",
              "6 0                          0                   1                  "
            ]
          },
          "metadata": {},
          "output_type": "display_data"
        }
      ],
      "source": [
        "head(df)"
      ]
    },
    {
      "cell_type": "code",
      "execution_count": 6,
      "metadata": {
        "colab": {
          "base_uri": "https://localhost:8080/"
        },
        "id": "3sE_ucbIYSN6",
        "outputId": "da22607d-fa0f-4b65-cfbd-20729c9113df"
      },
      "outputs": [
        {
          "name": "stderr",
          "output_type": "stream",
          "text": [
            "-- \u001b[1mAttaching packages\u001b[22m --------------------------------------- tidyverse 1.3.0 --\n",
            "\n",
            "\u001b[32mv\u001b[39m \u001b[34mggplot2\u001b[39m 3.3.3     \u001b[32mv\u001b[39m \u001b[34mpurrr  \u001b[39m 0.3.4\n",
            "\u001b[32mv\u001b[39m \u001b[34mtibble \u001b[39m 3.1.0     \u001b[32mv\u001b[39m \u001b[34mdplyr  \u001b[39m 1.0.5\n",
            "\u001b[32mv\u001b[39m \u001b[34mtidyr  \u001b[39m 1.1.3     \u001b[32mv\u001b[39m \u001b[34mstringr\u001b[39m 1.4.0\n",
            "\u001b[32mv\u001b[39m \u001b[34mreadr  \u001b[39m 1.4.0     \u001b[32mv\u001b[39m \u001b[34mforcats\u001b[39m 0.5.1\n",
            "\n",
            "-- \u001b[1mConflicts\u001b[22m ------------------------------------------ tidyverse_conflicts() --\n",
            "\u001b[31mx\u001b[39m \u001b[34mdplyr\u001b[39m::\u001b[32mfilter()\u001b[39m     masks \u001b[34mstats\u001b[39m::filter()\n",
            "\u001b[31mx\u001b[39m \u001b[34mdplyr\u001b[39m::\u001b[32mlag()\u001b[39m        masks \u001b[34mstats\u001b[39m::lag()\n",
            "\u001b[31mx\u001b[39m \u001b[34mtidyr\u001b[39m::\u001b[32mreplace_na()\u001b[39m masks \u001b[34mmetan\u001b[39m::replace_na()\n",
            "\n"
          ]
        }
      ],
      "source": [
        "library(tidyverse)"
      ]
    },
    {
      "cell_type": "code",
      "execution_count": 7,
      "metadata": {},
      "outputs": [],
      "source": [
        "library(metan)"
      ]
    },
    {
      "cell_type": "code",
      "execution_count": 2,
      "metadata": {},
      "outputs": [
        {
          "data": {
            "text/html": [
              "<style>\n",
              ".dl-inline {width: auto; margin:0; padding: 0}\n",
              ".dl-inline>dt, .dl-inline>dd {float: none; width: auto; display: inline-block}\n",
              ".dl-inline>dt::after {content: \":\\0020\"; padding-right: .5ex}\n",
              ".dl-inline>dt:not(:first-of-type) {padding-left: .5ex}\n",
              "</style><dl class=dl-inline><dt>x</dt><dd>FALSE</dd><dt>df1</dt><dd>FALSE</dd><dt>df2</dt><dd>FALSE</dd><dt>ncp</dt><dd>FALSE</dd><dt>log</dt><dd>FALSE</dd><dt>6</dt><dd>FALSE</dd></dl>\n"
            ],
            "text/latex": [
              "\\begin{description*}\n",
              "\\item[x] FALSE\n",
              "\\item[df1] FALSE\n",
              "\\item[df2] FALSE\n",
              "\\item[ncp] FALSE\n",
              "\\item[log] FALSE\n",
              "\\item[6] FALSE\n",
              "\\end{description*}\n"
            ],
            "text/markdown": [
              "x\n",
              ":   FALSEdf1\n",
              ":   FALSEdf2\n",
              ":   FALSEncp\n",
              ":   FALSElog\n",
              ":   FALSE6\n",
              ":   FALSE\n",
              "\n"
            ],
            "text/plain": [
              "    x   df1   df2   ncp   log       \n",
              "FALSE FALSE FALSE FALSE FALSE FALSE "
            ]
          },
          "metadata": {},
          "output_type": "display_data"
        }
      ],
      "source": [
        "num_cols <- unlist(lapply(df, is.numeric))         # Identify numeric columns\n",
        "num_cols"
      ]
    },
    {
      "cell_type": "code",
      "execution_count": 9,
      "metadata": {},
      "outputs": [
        {
          "name": "stderr",
          "output_type": "stream",
          "text": [
            "Warning message:\n",
            "\"Row(s) 25521, 29453, 32690, 33579, 81253, 86438, 86643, 86652, 86669, 86706, 86786, 87019, 87031, 87297 with NA values deleted.\"\n",
            "Warning message:\n",
            "\"Row(s)  with NA values deleted.\"\n",
            "Warning message:\n",
            "\"Removed 33 rows containing missing values (geom_text).\"\n"
          ]
        },
        {
          "data": {
            "image/png": "[encoded data removed]",
            "text/plain": [
              "plot without title"
            ]
          },
          "metadata": {
            "image/png": {
              "height": 420,
              "width": 420
            }
          },
          "output_type": "display_data"
        }
      ],
      "source": [
        "## library(metan)\n",
        "corrl <- corr_coef(df[ , -1:-2]) ## exclude column 1 and 2\n",
        "plot(corrl)"
      ]
    }
  ],
  "metadata": {
    "colab": {
      "authorship_tag": "ABX9TyMSxJx64Kr9vbZHf9f55+K6",
      "include_colab_link": true,
      "name": "datacamp2.ipynb",
      "provenance": []
    },
    "kernelspec": {
      "display_name": "R",
      "language": "R",
      "name": "ir"
    },
    "language_info": {
      "codemirror_mode": "r",
      "file_extension": ".r",
      "mimetype": "text/x-r-source",
      "name": "R",
      "pygments_lexer": "r",
      "version": "4.0.5"
    }
  },
  "nbformat": 4,
  "nbformat_minor": 0
}

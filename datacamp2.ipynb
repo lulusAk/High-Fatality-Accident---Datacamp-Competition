{
  "nbformat": 4,
  "nbformat_minor": 0,
  "metadata": {
    "colab": {
      "name": "datacamp2.ipynb",
      "provenance": [],
      "mount_file_id": "1iB1m499JvWxxx4psPWpwBWecl_Nc0C2R",
      "authorship_tag": "ABX9TyO1eTX95AtWxek5B0fHgwc/",
      "include_colab_link": true
    },
    "kernelspec": {
      "name": "python3",
      "display_name": "Python 3"
    },
    "language_info": {
      "name": "python"
    }
  },
  "cells": [
    {
      "cell_type": "markdown",
      "metadata": {
        "id": "view-in-github",
        "colab_type": "text"
      },
      "source": [
        "<a href=\"https://colab.research.google.com/github/lulus2781/Competition---high-fatality-accidents/blob/main/datacamp2.ipynb\" target=\"_parent\"><img src=\"https://colab.research.google.com/assets/colab-badge.svg\" alt=\"Open In Colab\"/></a>"
      ]
    },
    {
      "cell_type": "markdown",
      "metadata": {
        "id": "Rl31GzhAGq9w"
      },
      "source": [
        "# Python"
      ]
    },
    {
      "cell_type": "code",
      "metadata": {
        "id": "kmNyQf8kBm4C"
      },
      "source": [
        "%load_ext rpy2.ipython"
      ],
      "execution_count": 1,
      "outputs": []
    },
    {
      "cell_type": "code",
      "metadata": {
        "id": "2id9hc5F_f4G"
      },
      "source": [
        "import pandas as pd"
      ],
      "execution_count": 2,
      "outputs": []
    },
    {
      "cell_type": "code",
      "metadata": {
        "id": "1naFsR2l8qtY"
      },
      "source": [
        "url = \"https://raw.githubusercontent.com/lulus2781/Competition---high-fatality-accidents/main/accident-data.csv\"\n",
        "df = pd.read_csv(url, encoding='unicode_escape')"
      ],
      "execution_count": 3,
      "outputs": []
    },
    {
      "cell_type": "code",
      "metadata": {
        "id": "hkgibnHCFboB"
      },
      "source": [
        "df.to_csv('/content/drive/MyDrive/df.csv')"
      ],
      "execution_count": 12,
      "outputs": []
    },
    {
      "cell_type": "markdown",
      "metadata": {
        "id": "g5NGY2xyG0Jp"
      },
      "source": [
        "# R"
      ]
    },
    {
      "cell_type": "code",
      "metadata": {
        "colab": {
          "base_uri": "https://localhost:8080/"
        },
        "id": "V-yTSnzBByAn",
        "outputId": "853e61c3-4961-407b-82e1-dd68605e419b"
      },
      "source": [
        "%%R\n",
        "library(tidyverse)"
      ],
      "execution_count": 5,
      "outputs": [
        {
          "output_type": "stream",
          "name": "stderr",
          "text": [
            "R[write to console]: ── Attaching packages ─────────────────────────────────────── tidyverse 1.3.1 ──\n",
            "\n",
            "R[write to console]: ✔ ggplot2 3.3.5     ✔ purrr   0.3.4\n",
            "✔ tibble  3.1.5     ✔ dplyr   1.0.7\n",
            "✔ tidyr   1.1.4     ✔ stringr 1.4.0\n",
            "✔ readr   2.0.2     ✔ forcats 0.5.1\n",
            "\n",
            "R[write to console]: ── Conflicts ────────────────────────────────────────── tidyverse_conflicts() ──\n",
            "✖ dplyr::filter() masks stats::filter()\n",
            "✖ dplyr::lag()    masks stats::lag()\n",
            "\n"
          ]
        }
      ]
    },
    {
      "cell_type": "code",
      "metadata": {
        "colab": {
          "base_uri": "https://localhost:8080/"
        },
        "id": "OEwIoi_tGI3h",
        "outputId": "9a18de14-320f-42ba-87e1-d47aa7d96a7c"
      },
      "source": [
        "%%R\n",
        "df <- read_csv('/content/drive/MyDrive/df.csv')"
      ],
      "execution_count": 13,
      "outputs": [
        {
          "output_type": "stream",
          "name": "stderr",
          "text": [
            "R[write to console]: New names:\n",
            "* `` -> ...1\n",
            "\n"
          ]
        },
        {
          "output_type": "stream",
          "name": "stdout",
          "text": [
            "Rows: 91199 Columns: 28\n",
            "── Column specification ────────────────────────────────────────────────────────\n",
            "Delimiter: \",\"\n",
            "chr   (3): accident_index, accident_reference, date\n",
            "dbl  (24): ...1, accident_year, longitude, latitude, accident_severity, numb...\n",
            "time  (1): time\n",
            "\n",
            "ℹ Use `spec()` to retrieve the full column specification for this data.\n",
            "ℹ Specify the column types or set `show_col_types = FALSE` to quiet this message.\n"
          ]
        }
      ]
    },
    {
      "cell_type": "code",
      "metadata": {
        "colab": {
          "base_uri": "https://localhost:8080/"
        },
        "id": "fQ7EEKSSGTGI",
        "outputId": "e3a213a0-1d97-48b9-83a7-06c443f240bf"
      },
      "source": [
        "%%R\n",
        "head(df)"
      ],
      "execution_count": 15,
      "outputs": [
        {
          "output_type": "stream",
          "name": "stdout",
          "text": [
            "# A tibble: 6 × 28\n",
            "   ...1 accident_index accident_year accident_reference longitude latitude\n",
            "  <dbl> <chr>                  <dbl> <chr>                  <dbl>    <dbl>\n",
            "1     0 2020010219808           2020 10219808            -0.254       51.5\n",
            "2     1 2020010220496           2020 10220496            -0.139       51.5\n",
            "3     2 2020010228005           2020 10228005            -0.179       51.5\n",
            "4     3 2020010228006           2020 10228006            -0.00168     51.5\n",
            "5     4 2020010228011           2020 10228011            -0.138       51.5\n",
            "6     5 2020010228012           2020 10228012            -0.0259      51.5\n",
            "# … with 22 more variables: accident_severity <dbl>, number_of_vehicles <dbl>,\n",
            "#   number_of_casualties <dbl>, date <chr>, day_of_week <dbl>, time <time>,\n",
            "#   first_road_class <dbl>, first_road_number <dbl>, road_type <dbl>,\n",
            "#   speed_limit <dbl>, junction_detail <dbl>, junction_control <dbl>,\n",
            "#   second_road_class <dbl>, second_road_number <dbl>,\n",
            "#   pedestrian_crossing_human_control <dbl>,\n",
            "#   pedestrian_crossing_physical_facilities <dbl>, light_conditions <dbl>, …\n"
          ]
        }
      ]
    },
    {
      "cell_type": "code",
      "metadata": {
        "colab": {
          "base_uri": "https://localhost:8080/"
        },
        "id": "URnrwEC8HbcQ",
        "outputId": "8f6a0198-f6fc-4079-ed35-b3f03fb1961b"
      },
      "source": [
        "%%R\n",
        "glimpse(df)"
      ],
      "execution_count": 22,
      "outputs": [
        {
          "output_type": "stream",
          "name": "stdout",
          "text": [
            "Rows: 91,199\n",
            "Columns: 28\n",
            "$ ...1                                    <dbl> 0, 1, 2, 3, 4, 5, 6, 7, 8, 9, …\n",
            "$ accident_index                          <chr> \"2020010219808\", \"202001022049…\n",
            "$ accident_year                           <dbl> 2020, 2020, 2020, 2020, 2020, …\n",
            "$ accident_reference                      <chr> \"10219808\", \"10220496\", \"10228…\n",
            "$ longitude                               <dbl> -0.254001, -0.139253, -0.17871…\n",
            "$ latitude                                <dbl> 51.46226, 51.47033, 51.52961, …\n",
            "$ accident_severity                       <dbl> 3, 3, 3, 2, 3, 3, 3, 2, 3, 3, …\n",
            "$ number_of_vehicles                      <dbl> 1, 1, 1, 1, 1, 1, 2, 2, 2, 2, …\n",
            "$ number_of_casualties                    <dbl> 1, 2, 1, 1, 2, 1, 1, 1, 1, 1, …\n",
            "$ date                                    <chr> \"04/02/2020\", \"27/04/2020\", \"0…\n",
            "$ day_of_week                             <dbl> 3, 2, 4, 4, 4, 4, 4, 4, 4, 4, …\n",
            "$ time                                    <time> 09:00:00, 13:55:00, 01:25:00,…\n",
            "$ first_road_class                        <dbl> 6, 3, 5, 3, 3, 3, 6, 3, 3, 3, …\n",
            "$ first_road_number                       <dbl> 0, 3036, 0, 11, 40, 2209, 0, 1…\n",
            "$ road_type                               <dbl> 6, 6, 6, 6, 6, 2, 6, 3, 6, 3, …\n",
            "$ speed_limit                             <dbl> 20, 20, 30, 30, 30, 20, 30, 30…\n",
            "$ junction_detail                         <dbl> 0, 9, 3, 0, 3, 3, 3, 9, 9, 6, …\n",
            "$ junction_control                        <dbl> -1, 2, 1, -1, 4, 4, 4, 4, 4, 2…\n",
            "$ second_road_class                       <dbl> 6, 6, 6, 6, 5, 6, 6, 6, 6, 3, …\n",
            "$ second_road_number                      <dbl> 0, 0, 0, 0, 0, 0, 0, 0, 0, 406…\n",
            "$ pedestrian_crossing_human_control       <dbl> 9, 0, 0, 0, 0, 0, 0, 0, 0, 0, …\n",
            "$ pedestrian_crossing_physical_facilities <dbl> 9, 4, 0, 4, 0, 0, 0, 0, 0, 5, …\n",
            "$ light_conditions                        <dbl> 1, 1, 4, 4, 4, 4, 4, 4, 4, 4, …\n",
            "$ weather_conditions                      <dbl> 9, 1, 1, 1, 1, 1, 1, 8, 1, 1, …\n",
            "$ road_surface_conditions                 <dbl> 9, 1, 2, 1, 1, 1, 2, 2, 1, 1, …\n",
            "$ special_conditions_at_site              <dbl> 0, 0, 0, 0, 0, 0, 0, 0, 0, 0, …\n",
            "$ carriageway_hazards                     <dbl> 0, 0, 0, 0, 0, 0, 0, 0, 0, 0, …\n",
            "$ urban_or_rural_area                     <dbl> 1, 1, 1, 1, 1, 1, 1, 1, 1, 1, …\n"
          ]
        }
      ]
    }
  ]
}